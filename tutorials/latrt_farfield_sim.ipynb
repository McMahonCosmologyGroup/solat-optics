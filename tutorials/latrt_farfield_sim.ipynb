{
 "cells": [
  {
   "cell_type": "markdown",
   "metadata": {},
   "source": [
    "# The Simons Observatory Large Aperture Telescope Receiver Tester Far-Field Simulation\n",
    "\n",
    "### Grace E. Chesmore - McMahonCosmologyGroup\n",
    "We will simulate the far-field beam of the SO LAT optics tube using a ray-tracing technique. These simulations are compared to the propagated holography measurements performed on the LAT Receiver tester at the University of Chicago. \n",
    "\n",
    "## 1. Ray Tracing from the Far-Field\n"
   ]
  },
  {
   "cell_type": "code",
   "execution_count": null,
   "metadata": {
    "vscode": {
     "languageId": "plaintext"
    }
   },
   "outputs": [],
   "source": []
  },
  {
   "cell_type": "markdown",
   "metadata": {},
   "source": [
    "## 2. Building out the full simulated far-field beam"
   ]
  },
  {
   "cell_type": "markdown",
   "metadata": {},
   "source": [
    "To create a full far-field beam, we repeat the above ray-tracing technique, rotating the virtual telescope in elevation and azimuth.\n",
    "\n",
    "1. To speed up this process, the simulation has been parallelized.  To set up the simulation, first edit the settings in $\\verb|ff_sim.py|$. One can set the near-field beam's location in the LATR focal plane, the source's position in the far-field (we set it to 100km away from the LAT aperture plane), and LAT mirror adjuster offsets (we set them to zero).\n",
    "\n",
    "2. We run the simulation from the terminal using $\\verb|mpiexec|$, which parallelizes the process.  To specify the number of processes, we use the \\verb|-n| option.  For example, to run with 10 processes, set $\\verb|mpiexec -n 4|$.  The simulation requires four input variables: 1) the frequency of the simulation (GHz), the resolution of the far-field map (arcmin), $\\pm$ scan size (arcmin), and near-field offset from LATR focus (m).  The simulation below should run in about 5 minutes.\n",
    "```\n",
    "mpiexec -n 10 python3 ff_sim.py 150 1 10 1.33\n",
    "```\n",
    "\n",
    "A progress bar will appear, showing you time for simulation to complete.  Once the simulation is complete, you can plot the results below."
   ]
  },
  {
   "cell_type": "markdown",
   "metadata": {},
   "source": []
  }
 ],
 "metadata": {
  "language_info": {
   "name": "python"
  },
  "orig_nbformat": 4
 },
 "nbformat": 4,
 "nbformat_minor": 2
}
