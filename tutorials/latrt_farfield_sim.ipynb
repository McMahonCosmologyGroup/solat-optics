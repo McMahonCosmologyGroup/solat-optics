{
 "cells": [
  {
   "cell_type": "markdown",
   "metadata": {},
   "source": [
    "# The Simons Observatory Large Aperture Telescope Receiver Tester Far-Field Simulation\n",
    "\n",
    "### Grace E. Chesmore - McMahonCosmologyGroup\n",
    "We will simulate the far-field beam of the SO LAT optics tube using a ray-tracing technique. These simulations are compared to the propagated holography measurements performed on the LAT Receiver tester at the University of Chicago. \n",
    "\n",
    "## 1. Ray Tracing from the Far-Field\n",
    "\n",
    "\\begin{equation}\n",
    "e(\\theta,\\phi)=\\int_{\\text{FP}}E_{\\text{source}}(\\theta,\\phi)E_{\\text{rec}}dA\n",
    "\\end{equation}\n",
    "\n",
    "where $E_{\\text{source}}$ is the electric field from the source and $E_{\\text{rec}}$ is the electric field of the optics tube which we consider our receiver.  The two fields are then combined to give the total electric field $E_{\\text{total}}$.  To get the amplitude and phase of the far-field electric field for this $\\theta$ and $\\phi$, we integrate $E_{\\text{total}}$ over the area $A$ of the LATR focal plane (FP).\n"
   ]
  },
  {
   "cell_type": "code",
   "execution_count": null,
   "metadata": {},
   "outputs": [],
   "source": [
    "import numpy as np\n",
    "import matplotlib\n",
    "import matplotlib.font_manager as font_manager\n",
    "# %load_ext blackcellmagic\n",
    "import matplotlib.pyplot as plt\n",
    "\n",
    "%matplotlib inline\n",
    "font_manager.fontManager.addfont(\n",
    "    \"/home/chesmore/.local/share/fonts/HelveticaNeueLight.ttf\"\n",
    ")\n",
    "matplotlib.rcParams[\"font.family\"] = \"Helvetica Neue\"\n",
    "matplotlib.rcParams[\"font.size\"] = 16\n",
    "matplotlib.rcParams.update({\"axes.grid\" : False, \"grid.color\": \"grey\", \"grid.alpha\": .2, 'xtick.direction':'in','ytick.direction':'in'})\n",
    "%config InlineBackend.figure_format = 'retina'\n"
   ]
  },
  {
   "cell_type": "markdown",
   "metadata": {},
   "source": [
    "## 2. Building out the full simulated far-field beam"
   ]
  },
  {
   "cell_type": "markdown",
   "metadata": {},
   "source": [
    "To create a full far-field beam, we repeat the above ray-tracing technique, rotating the virtual telescope in elevation and azimuth.\n",
    "\n",
    "1. To speed up this process, the simulation has been parallelized.  To set up the simulation, first edit the settings in $\\verb|ff_sim.py|$. One can set the near-field beam's location in the LATR focal plane, the source's position in the far-field (we set it to 100km away from the LAT aperture plane), and LAT mirror adjuster offsets (we set them to zero).\n",
    "\n",
    "2. We run the simulation from the terminal using $\\verb|mpiexec|$, which parallelizes the process.  To specify the number of processes, we use the \\verb|-n| option.  For example, to run with 10 processes, set $\\verb|mpiexec -n 4|$.  The simulation requires four input variables: 1) the frequency of the simulation (GHz), the resolution of the far-field map (arcmin), $\\pm$ scan size (arcmin), and near-field offset from LATR focus (m).  The simulation below should run in about 5 minutes.\n",
    "```\n",
    "mpiexec -n 10 python3 ff_sim.py 150 1 10 1.33\n",
    "```\n",
    "\n",
    "A progress bar will appear, showing you time for simulation to complete.  Once the simulation is complete, you can plot the results below."
   ]
  },
  {
   "cell_type": "code",
   "execution_count": null,
   "metadata": {},
   "outputs": [],
   "source": [
    "import numpy as np\n",
    "import matplotlib.pyplot as plt\n",
    "\n",
    "test = np.loadtxt('../output_files/ff_1.32m_140GHz_highres.txt')\n",
    "\n",
    "news = int(np.sqrt(len(test[:,0])))\n",
    "x_out = np.reshape(test[:,0],(news,news))\n",
    "y_out = np.reshape(test[:,1],(news,news))\n",
    "a = np.reshape(test[:,2],(news,news))\n",
    "p = np.reshape(test[:,3],(news,news))\n",
    "\n",
    "plt.figure( figsize=(5,4) )\n",
    "plt.title(\"Far Field Power 140 GHz\")\n",
    "plt.pcolormesh(60*np.rad2deg(x_out),60*np.rad2deg(y_out),20*np.log10(abs(a)/np.max(abs(a))),shading = 'auto')\n",
    "plt.colorbar(label = 'dB')\n",
    "plt.xlabel('X (arcmin)')\n",
    "plt.ylabel('Y (arcmin)')\n",
    "plt.axis(\"equal\")\n",
    "plt.show()"
   ]
  }
 ],
 "metadata": {
  "interpreter": {
   "hash": "3067ead486e059ec00ffe7555bdb889e6e264a24dc711bf108106cc7baee8d5d"
  },
  "kernelspec": {
   "display_name": "Python 3.8.5 ('base')",
   "language": "python",
   "name": "python3"
  },
  "language_info": {
   "codemirror_mode": {
    "name": "ipython",
    "version": 3
   },
   "file_extension": ".py",
   "mimetype": "text/x-python",
   "name": "python",
   "nbconvert_exporter": "python",
   "pygments_lexer": "ipython3",
   "version": "3.8.5"
  },
  "orig_nbformat": 4
 },
 "nbformat": 4,
 "nbformat_minor": 2
}
