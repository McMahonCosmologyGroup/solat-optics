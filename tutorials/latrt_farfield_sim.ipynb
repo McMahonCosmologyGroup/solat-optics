{
 "cells": [
  {
   "cell_type": "markdown",
   "metadata": {},
   "source": [
    "# The Simons Observatory Large Aperture Telescope Receiver Tester Far-Field Simulation\n",
    "\n",
    "### Grace E. Chesmore - McMahonCosmologyGroup\n",
    "We will simulate the far-field beam of the SO LAT optics tube using a ray-tracing technique. These simulations are compared to the propagated holography measurements performed on the LAT Receiver tester at the University of Chicago. \n",
    "\n",
    "## Ray Tracing from the Far-Field\n"
   ]
  },
  {
   "cell_type": "markdown",
   "metadata": {},
   "source": []
  }
 ],
 "metadata": {
  "language_info": {
   "name": "python"
  },
  "orig_nbformat": 4
 },
 "nbformat": 4,
 "nbformat_minor": 2
}
